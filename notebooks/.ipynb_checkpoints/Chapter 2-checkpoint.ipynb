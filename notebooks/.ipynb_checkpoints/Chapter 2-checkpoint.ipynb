{
 "cells": [
  {
   "cell_type": "markdown",
   "metadata": {},
   "source": [
    "# Chapter 2\n",
    "## 2.1 Goals, Principles, and Patterns\n",
    "객체 지향 패러다임에서 가장 중요한 역할을 하는 주체는 **객체(objects)**이다. 각각의 객체는 **클래스(class)**의 **인스턴스(instance)**이다. 각각의 클래스는 외부 세계에 자기 자신(클래스)에 속하는 객체들에 대한 간결하고 일관된 설명을 제공한다. 클래스를 통해 사람들에게 불필요한 디테일을 알려주거나 객체 내부에 대한 권한을 주지 않고서도 클래스의 인스턴스인 객체에 대한 정보를 줄 수 있다. 클래스를 정의할 때는 **인스턴스 변수(instance variable)**와 객체가 실행할 수 있는 **메소드(methods)**를 명시한다. 인스턴스 변수와 메소드는 **data members**, **member functions** 라고 불리기도 한다.\n",
    "\n",
    "## 2.1.1 객체지향 디자인의 목표\n",
    "소프트웨어 구현은 **robustness, adaptability, reusability**를 갖추어야 한다.\n",
    "\n",
    "### Robustness\n",
    "프로그램은 예상치 못한 입력을 다룰 수 있어야 한다. 예를 들어, 양수를 입력받을 것으로 기대하는 프로그램이 음수를 입력으로 받았을 때 프로그램은 이러한 에러로부터 회복할 수 있어야 한다.\n",
    "\n",
    "### Adaptability\n",
    "**Adaptability**는 **Evolvability**라고 불리기도 한다. 소프트웨어는 변화하는 환경에 맞추어 진화할 수 있어야 한다. 이와 관련된 개념은 **portability**인데, 소프트웨어가 최소한의 변화만으로도 다른 하드웨어와 OS 플랫폼에서 작동할 수 있어야 함을 의미한다.\n",
    "\n",
    "### Reusability\n",
    "같은 코드가 다양한 어플리케이션의 다양한 환경의 요소로써 사용될 수 있어야 한다. 양질의 소프트웨어를 개발하는 것은 꽤나 자원이 많이 들어가는 일이기에 소프트웨어가 미래의 어플리케이션에 어떤 방법으로든 쉽게 다시 사용될 수 있게끔 디자인된다면 그 비용을 감소시킬 수 있다.\n",
    "\n",
    "## 2.1.2 객체지향 디자인의 원칙\n",
    "위의 목표를 달성하기 위한 객체지향 접근의 원칙 중 가장 중요한 것은 다음과 같다.\n",
    "- Modularity\n",
    "- Abstraction\n",
    "- Encapsulation\n",
    "\n",
    "### Modularity\n",
    "현대 소프트웨어 시스템은 전체 시스템이 적절하게 작동하기 위해서 서로 상호작용하는 여러 개의 요소들(components)로 구성된다. 이러한 상호작용이 잘 이루어지기 위해서는 각각의 요소들이 체계화되어야 한다. 모듈성(Modularity)은 소프트웨어 시스템의 서로 다른 구성요소들이 서로 다른 기능의 유닛으로 분리되어야 한다는 원칙을 의미한다. 소프트웨어 시스템에 모듈성을 이용함으로써 구현하고자 하는 것을 명확하게 해주는 강력하면서도 체계적인 프레임워크를 얻을 수 있다. 이게 무슨 의미인지를 알기 위해 아파트를 생각해보자. 아파트는 전기, 난방, 냉방, 배관 등 서로 상호작용하는 여러개의 유닛들로 이루어져있다. 체계적인 건축 디자인에서는 이러한 시스템들을 수많은 와이어, 환기구, 파이프, 합판 등이 뒤얽힌 것으로 보지 않고 잘 짜여진 방식으로 서로 상호작용하는 여러개의 모듈로 볼 것이다. 파이썬에서도 모듈을 쉽게 볼 수 있다. 파이썬의 표준 라이브러리는 수학에 대한 여러 함수를 제공하는 `math` 모듈이나 os와 상호작용하도록 돕는 `os` 모듈을 제공한다.\n",
    "\n",
    "이러한 모듈성이 위의 3가지 목표를 달성하는 데에 어떻게 기여할까? 모듈화는 개발자로 하여금 거대한 소프트웨어 시스템에 각각의 모듈을 통합시키기 전에 개별적인 모듈을 테스트하고 디버깅할 수 있게 함으로써 시스템의 Robustness를 증가시킨다. 또한, 완성된 시스템에 버그가 발생하더라도 어느 요소에서 발생한 버그인지 추적하는 것이 가능하므로 각각의 모듈에서 버그를 수정하는 것이 가능해진다.\n",
    "\n",
    "모듈화된 구조는 소프트웨어 재사용성에도 기여한다. 만약 소프트웨어 모듈이 일반화된 방식으로 작됐다면 같은 기능을 필요로 하는 경우 그 모듈을 재사용하는 것이 가능해진다. 이는 자료 구조와도 밀접한 관련이 있다. 많은 자료 구조가 추상화, 일반화되어 다른 어플리케이션에서 재사용 가능하게끔 설계되었기 때문이다.\n",
    "\n",
    "### Abstraction\n",
    "추상화(Abstraction)는 복잡한 시스템을 가장 근본적인(fundamental) 부분들로 간추려내는 것이다. 데이터 구조의 디자인에 추상화 패러다임을 적용하면서 추상 자료형(abstract data types, ADTs)이 등장했다. ADT는 저장되는 자료의 형태, 지원되는 연산자, 연산자의 파라미터의 형태 등을 명시하는 자료 구조의 수학적 모델이다. ADT는 각각의 연산자가 **어떻게** 일을 하는 지가 아니라 **어떠한** 일을 하는지를 명시한다. ADT에 의해 지원되는 동작들의 집합을 **Public Interface**라고 부른다.\n",
    "\n",
    "파이썬은 **덕 타이핑(duck typing)**이라는 메커니즘을 통해 암묵적으로 추상화를 다룬다. 파이썬은 인터프리터 언어이면서 동적 언어이기 때문에 자료 형을 체크하는 '컴파일 시간'이 존재하지 않으며 추상 클래스를 선언하기 위한 특별한 형식이 없다. 대신에 프로그래머들은 객체가 이미 알려진 특정한 동작을 지원할 것이라 가정하고, 이러한 가정이 깨지는 경우 인터프리터는 런타임 에러를 띄운다. 즉 어떠한 객체가 특정한 클래스이기 위해서 특정한 형식을 따라야 할 필요가 없으며, 같은 기능을 하기만 하면 된다는 것이다. 이러한 **덕 타이핑**은 시인 James Whitcomb Riley가 \"오리처럼 걷고 오리처럼 수영하며 오리처럼 꽥꽥되는 새를 본다면 나는 그 새를 오리라 부를 것이다\" 라고 말한 데에서 비롯했다.\n",
    "\n",
    "더 엄밀하게 말하자면, 파이썬은 **abstract base class(ABC, 추상 기초 클래스)**라는 메커니즘을 이용하여 추상 자료형을 지원한다. 추상 기초 클래스는 인스턴스로 호출될 수 없지만 추상 기초 클래스는 그 추상화의 구현이 반드시 가져야 할 하나 이상의 공통적인 메소드를 정의한다. 이후 ABC는 추상 기초 클래스를 상속하며 ABC에 의해 구현된 메소드를 구현하는 하나 이상의 **구상 클래스(concrete classes)**에 의해 실체화된다. 비록 우리가 그러한 선언들을 종종 생략하긴 하지만 파이썬의 `abc` 모듈은 ABC에 대한 공식적인 지원을 제공한다.\n",
    "\n",
    "### Encapsulation\n",
    "또 다른 객체지향 디자인의 원칙은 **캡슐화(encapsulation)**이다. 캡슐화가 의미하는 것은 소프트웨어 시스템의 서로 다른 구성요소들이 구현의 내부 디테일을 드러내선 안된다는 것이다. 캡슐화의 주요 장점 중 하나는 다른 프로그래머들이 각 요소 내부에서 코드가 작동하는 방식에 의존하는 코드를 짜야하는 경우를 생각하지 않고 자유롭게 디테일을 구현할 수 있다는 것이다. 각 구성요소를 구현하는 프로그래머에게 주어진 유일한 제약은 각 구성요소의 퍼블릭 인터페이스를 잘 유지하여 다른 프로그래머들로 하여금 그 인터페이스에 의존하는 코드를 작성할 수 있게 해야한다는 것이다. 이러한 캡슐화를 통해 프로그래머들은 의도치 않게 다른 부분들에 영향을 주는 일 없이 프로그램의 일부분을 변화시킬 수 있게 되고, 이는 robustness와 adaptability를 달성하는데 도움이 된다.\n",
    "\n",
    "파이썬이 캡슐화를 엄밀하게 지원하지 않기 때문에 관례적으로 언더스코어(_)로 시작하는 클래스의 멤버(e.g., _secret)들은 퍼블릭하지 않은 것으로 취급한다. 이러한 관례는 문서에서 이러한 멤버들을 일부러 생략함으로써 강화되기도 한다.\n",
    "\n",
    "## 2.3.2 연산자 오버로딩과 스페셜 메소드\n",
    "파이썬의 built-in 클래스들은 많은 연산자들에 대한 문법을 제공하고 있다. 예를 들어 `a + b`는 숫자에 대해선 더하기, 배열 타입에 대해서는 병합(concatenation)을 실행한다. 우리는 새로운 클래스를 정의할 때 그 클래스의 인스턴스인 a, b에 대해 `a + b`와 같은 문법을 정의할 필요가 있는지 생각해봐야 한다. 기본적으로 `+` 연산자는 새로운 클래스에 대해 정의되지 않는다. 그러나 클래스를 만드는 사람은 **연산자 오버로딩(operator overloading)**이라 불리는 테크닉을 통해 `+`에 대한 정의를 내릴 수 있다. 이는 특별히 이름지어진 메소드들을 구현함으로써 이루어진다. 예를 들어, `+` 연산자는 오른쪽 피연산자를 파라미터로 받아 결과값을 반환하는 메소드 `__add__`를 구현하면 된다. 즉, `a + b`라는 문법은 `a.__add__(b)`라는 메소드로 변환된다. 다른 연산자에 대해서도 스페셜 메소드를 오버로드함으로써 새로운 연산자를 구현하는 것이 가능하다.\n",
    "\n",
    "`3 * 'love me'`와 같이 만약 바이너리 연산자가 서로 다른 타입의 두 인스턴스에 적용된 경우, 파이썬은 왼쪽 피연산자에 우선순위를 준다. 예를 들어, 파이썬은 `int` 클래스가 `__mul__` 메소드를 통해 `string`의 인스턴스와 어떻게 곱해져야 할 지를 정의하고 있는지 체크한다. 만약 그런 구현이 되어있지 않다면 파이썬은 오른쪽 피연산자의 클래스 정의에서 `__rmul__`를 찾고 `int` 클래스의 인스턴스와 어떻게 곱해져야 할 지 구현되어 있는가를 체크할 것이다. 이러한 방식을 통해 user-defiend 클래스는 이미 존재하는 클래스의 인스턴스를 포함하여 다양한 인스턴스들과 어떠한 연산을 할 지 구현할 수 있다. 또한 `__mul__`과 `__rmul__`의 구분은 클래스로 하여금 행렬 곱셈과 같이 교환법칙이 성립하지 않는 경우에 대해서도 연산을 정의할 수 있게 해준다.\n",
    "\n",
    "### Non-Operator Overloads\n",
    "전통적인 연산자 오버로딩뿐 아니라 파이썬은 user-defined 클래스에 적용되는 다양한 기능을 조절하기 위해 스페셜 메소드에 의존한다. 예를 들어, `str(foo)`라는 문법은 string 클래스의 constructor에 대한 호출이다. 그런데 이미 정의되어있던 string 클래스 안에서 이 user-defined 클래스의 인스턴스를 어떻게 처리해야 할 지를 찾는 건 당연히 불가능하다. 그래서 이런 경우 string 컨스트럭터는 스페셜 메소드 `foo.__str__()`를 호출하여 적절한 string을 반환해야 한다.\n",
    "\n",
    "비슷한 스페셜 메소드들이 어떻게 유저 정의 클래스의 파라미터에 대한 `int`, `float`, `bool`을 처리해야 할 지를 결정한다. `Boolean` 값으로의 변환은 특히 중요한데, `foo`가 불리언 값이 아니더라도 `if foo:` 등의 문법이 사용될 수 있기 때문이다. 이런 유저 정의 클래스의 경우 위의 if문은 `foo.__bool__()`을 통해 평가된다."
   ]
  },
  {
   "cell_type": "markdown",
   "metadata": {},
   "source": [
    "## 2.3.3 Example: Multidimensional Vector Class\n",
    "연산자 오버로딩과 다형성(polymorphism)을 잘 보여주는 것이 다음의 Vector 클래스 예제이다. 아래의 Vector 클래스는 Vector 클래스 뿐 아니라 길이가 같은 list 클래스의 인스턴스와도 더하기가 가능하게끔 정의되었기에 `u = v + [5,3,10,-2,1]`과 같은 연산이 가능하다. 이것은 파이썬의 **다형성(polymorphism)**이 적용된 결과이다."
   ]
  },
  {
   "cell_type": "code",
   "execution_count": 1,
   "metadata": {
    "collapsed": true
   },
   "outputs": [],
   "source": [
    "class Vector:\n",
    "    \"\"\"Represent a vector in a multidimensional space\"\"\"\n",
    "    \n",
    "    def __init__(self, d):\n",
    "        \"\"\"Create d-dimensional vector of zeros.\"\"\"\n",
    "        self._coords = [0] * d\n",
    "    \n",
    "    def __len__(self):\n",
    "        \"\"\"Return the dimension of the vector.\"\"\"\n",
    "        return len(self._coords)\n",
    "    \n",
    "    def __getitem__(self, j):\n",
    "        \"\"\"Return jth coordinate of vector\"\"\"\n",
    "        return self._coords[j]\n",
    "    \n",
    "    def __setitem__(self, j, val):\n",
    "        \"\"\"Set jth coordinate of vector to given value.\"\"\"\n",
    "        self._coords[j] = val\n",
    "        \n",
    "    def __add__(self, other):\n",
    "        \"\"\"Return sum of two vectors.\"\"\"\n",
    "        if len(self) != len(other):                  # relies on __len__ method\n",
    "            raise ValueError('dimensions must agree')\n",
    "        result = Vector(len(self))                   # start with vector of zeros\n",
    "        for j in range(len(self)):\n",
    "            result[j] = self[j] + other[j]\n",
    "        return result\n",
    "    \n",
    "    def __eq__(self, other):\n",
    "        \"\"\"Return True if vector has same coordinates as other.\"\"\"\n",
    "        return self._coords == other._coords\n",
    "    \n",
    "    def __ne__(self, other):\n",
    "        \"\"\"Return True if vector differs from other\"\"\"\n",
    "        return not self == other                    # rely on existing __eq__ definition\n",
    "    \n",
    "    def __str__(self):\n",
    "        \"\"\"Produce string representation of vector.\"\"\"\n",
    "        return '<' + str(self._coords)[1:-1] + '>'  # adapt list representation"
   ]
  },
  {
   "cell_type": "code",
   "execution_count": 2,
   "metadata": {},
   "outputs": [
    {
     "name": "stdout",
     "output_type": "stream",
     "text": [
      "45\n",
      "<0, 46, 0, 0, 90>\n",
      "68\n"
     ]
    }
   ],
   "source": [
    "v = Vector(5)\n",
    "v[1] = 23\n",
    "v[-1] = 45\n",
    "print(v[4])\n",
    "u = v + v\n",
    "print(u)\n",
    "total = 0\n",
    "for entry in v:\n",
    "    total += entry\n",
    "print(total)"
   ]
  },
  {
   "cell_type": "markdown",
   "metadata": {},
   "source": [
    "## 2.3.4 Example: Iterators\n",
    "파이썬에서 Iterator 클래스를 직접 구현해야 하는 경우는 드물다. **generator**를 이용하면 쉽게 iterator를 만들어낼 수 있다. 또한, 파이썬은 `__len__`과 `__getitem__` 메소드를 모두 정의하고 있는 클래스에 대해서는 자동 이터레이터 구현을 제공하고 있다. 어떻게 로우레벨에서 이러한 자동 이터레이터가 구현되는지를 다음의 예제를 통해 살펴보자."
   ]
  },
  {
   "cell_type": "code",
   "execution_count": 4,
   "metadata": {
    "collapsed": true
   },
   "outputs": [],
   "source": [
    "class SequenceIterator:\n",
    "    \"\"\"An iterator for any of Python's sequence types.\"\"\"\n",
    "    \n",
    "    def __init__(self, sequence):\n",
    "        \"\"\"Create an iterator for the given sequence.\"\"\"\n",
    "        self._seq = sequence  # keep a reference to the underlying data\n",
    "        self._k = -1          # will increment to 0 on first call to next\n",
    "        \n",
    "    def __next__(self):\n",
    "        \"\"\"Return the next element, or else raise StopIteration error.\"\"\"\n",
    "        self._k += 1 # advance to next index\n",
    "        if self._k < len(self._seq):\n",
    "            return(self._seq[self._k])\n",
    "        else:\n",
    "            raise StopIteration()\n",
    "            \n",
    "    def __iter__(self):\n",
    "        \"\"\"By convention, an iterator must return itself as an iterator\"\"\"\n",
    "        return self"
   ]
  },
  {
   "cell_type": "markdown",
   "metadata": {},
   "source": [
    "## 2.3.5 Example: Range Class\n",
    "**lazy evaluation**을 이용하는 built-in 클래스 range를 흉내내는 클래스 Range를 정의해보자."
   ]
  },
  {
   "cell_type": "code",
   "execution_count": 5,
   "metadata": {
    "collapsed": true
   },
   "outputs": [],
   "source": [
    "class Range:\n",
    "    \"\"\"A class that mimics the built-in range class\"\"\"\n",
    "    \n",
    "    def __init__(self, start, stop=None, step=1):\n",
    "        \"\"\"Initialize a Range instance.\n",
    "        \n",
    "        Semantics is similar to built-in range class.\n",
    "        \"\"\"\n",
    "        if step == 0:\n",
    "            raise ValueError('step cannot be 0')\n",
    "            \n",
    "        if stop is None:                         # Special case of range(n)\n",
    "            start, stop = 0, start               # should be treated as if range(0, n)\n",
    "        \n",
    "        # calculate the effective length once\n",
    "        self._length = max(0, (stop - start + step -1) // step)\n",
    "        \n",
    "        # need knowledge of start and step (but no sop) to support __getitem__\n",
    "        self._start = start\n",
    "        self._step = step\n",
    "        \n",
    "    def __len__(self):\n",
    "        \"\"\"Return number of entries in the range\"\"\"\n",
    "        return self._length\n",
    "    \n",
    "    def __getitem__(self, k):\n",
    "        \"\"\"Return entry at index k (using standard interpretation if negative).\"\"\"\n",
    "        if k < 0:\n",
    "            k += len(self)                  # attempt to convert negative index\n",
    "            \n",
    "        if not 0 <= k < self._length:\n",
    "            raise IndexError('index out of range')\n",
    "        \n",
    "        return self._start + k * self._step    "
   ]
  },
  {
   "cell_type": "code",
   "execution_count": 6,
   "metadata": {},
   "outputs": [
    {
     "name": "stdout",
     "output_type": "stream",
     "text": [
      "0\n",
      "1\n",
      "2\n",
      "3\n",
      "4\n"
     ]
    }
   ],
   "source": [
    "for i in Range(5):\n",
    "    print(i)"
   ]
  },
  {
   "cell_type": "markdown",
   "metadata": {},
   "source": [
    "## 2.4 Inheritance\n",
    "## Protected Members\n",
    "자식 클래스가 부모 클래스에서 정의된 `self._variable`, *nonpublic* 멤버에 접근하는 것이 괜찮은가 의문을 가질 수 있다. 그러나 자식 클래스는 부모 클래스와의 관계에서 일종의 특권을 갖는다. 여러 다른 객체지향 언어(e.g. Java, C++)에서는 **protected**나 **private** 선언을 공식적으로 허용한다. protected로 선언된 멤버는 자식 클래스에서 접근이 가능하지만 그 외에는 접근이 불가능하다. private로 선언된 멤버는 자식 클래스에서도 접근이 불가능하다. 따라서 위의 `self._variable`은 protected로 선언된 것과 비슷할 것이다.\n",
    "\n",
    "protected로 선언된 것과 '비슷'하다고 말한 이유는 파이썬이 공식적으로 access control을 허용하지 않기 때문이나. 그러나 관레적으로 하나의 언더스코어로 시작하는 멤버는 protected로, 두개의 언더스코어로 시작하는 멤버는 private으로 취급한다. 그런데, 자식클래스가 부모클래스의 protected 멤버에 접근하는 것이 가능하다 할지라도 그렇게 코드를 짜게 되면 코드에 의존성(dependency)이 생겨 부모 클래스의 내부 디자인에 변화가 생길 경우 자식 클래스도 영향을 받게 된다. 따라서 애초에 클래스를 설계할 때 직접 `self._variable` 등의 호출 없이도 부모 클래스의 멤버에 접근하게 해주는 `get_variable`이나 `set_variable` 등의 메소드를 정의해두는 것이 현명한 방법이라 할 것이다.\n",
    "\n",
    "## 2.4.2 Hierarchy of Numeric Progressions\n",
    "`Progression`이라는 이름의 클래스를 정의하는 연습을 해보자. 이 `Progression`은 이터레이터로, 숫자에 관련된 루프를 돌릴때 사용될 클래스이다. 이 클래스 안에는 `self._current` 필드의 값을 업데이트하는 nonpublic 메소드 `_advance`가 정의되어있다. 이 메소드는 값을 1씩 증가시키지만 자속 클래스들은 이 메소드를 오버라이드하여 새로운 이터레이터가 될 것이다."
   ]
  },
  {
   "cell_type": "code",
   "execution_count": 7,
   "metadata": {
    "collapsed": true
   },
   "outputs": [],
   "source": [
    "class Progression:\n",
    "    \"\"\"Iterator producing a generic progression\n",
    "    \n",
    "    Default iterator produces the whole numbers 0,1,2\n",
    "    \"\"\"\n",
    "    \n",
    "    def __init__(self, start=0):\n",
    "        \"\"\"Initialize current to the first value of the progression\"\"\"\n",
    "        self._current = start\n",
    "        \n",
    "    def _advance(self):\n",
    "        \"\"\"Update self._current to a new value.\n",
    "        \n",
    "        This should be overridden by a subclass to customize progression.\n",
    "        \n",
    "        By convention, if current is set to None, this designates the\n",
    "        end of a finite progression.\n",
    "        \"\"\"\n",
    "        self._current += 1\n",
    "        \n",
    "    def __next__(self):\n",
    "        \"\"\"Return the next element, or else raise StopIteration error\"\"\"\n",
    "        if self._current is None:    # out convention to end a progression\n",
    "            raise StopIteration()\n",
    "        else:\n",
    "            answer = self._current\n",
    "            self._advance()\n",
    "            return answer\n",
    "        \n",
    "    def __iter__(self):\n",
    "        \"\"\"By convention, an iterator must return itself as an iterator.\"\"\"\n",
    "        return self\n",
    "    \n",
    "    def print_progression(self, n):\n",
    "        \"\"\"Print next n values of the progression.\"\"\"\n",
    "        print(' '.join(str(next(self)) for j in range(n)))"
   ]
  },
  {
   "cell_type": "markdown",
   "metadata": {},
   "source": [
    "이제 1씩 순차적으로 증가하는 수열이 아니라 주어진 값만큼 증가하는 수열을 반환하는 새로운 클래스 `ArithmeticProgression`을 만들어보자. `ArithmeticProgression(4)`는 0,4,8,12,..., `ArithmeticProgression(4,1)`은 1,5,9,13,... 을 반환한다."
   ]
  },
  {
   "cell_type": "code",
   "execution_count": 8,
   "metadata": {
    "collapsed": true
   },
   "outputs": [],
   "source": [
    "class ArithmeticProgression(Progression):\n",
    "    \"\"\"Iterator producing an arithmetic progression\"\"\"\n",
    "    \n",
    "    def __init__(self, increment=1, start=0):\n",
    "        \"\"\"Create a new arithmetic progression.\n",
    "\n",
    "        increment   the fixed constant to add to each term (default 1)\n",
    "        start       the first term of the progression (default 0)\n",
    "        \"\"\"\n",
    "        super().__init__(start)\n",
    "        self._increment = increment\n",
    "    \n",
    "    def _advance(self):\n",
    "        \"\"\"Update current value by adding the fixed increment\"\"\"\n",
    "        self._current += self._increment"
   ]
  },
  {
   "cell_type": "markdown",
   "metadata": {},
   "source": [
    "이제 주어진 값만큼 증가하는 것이 아니라 계속해서 주어진 값만큼 곱해지는 수열을 반환하는 새로운 클래스를 만들어보자."
   ]
  },
  {
   "cell_type": "code",
   "execution_count": 9,
   "metadata": {
    "collapsed": true
   },
   "outputs": [],
   "source": [
    "class GeometricProgression(Progression):\n",
    "    \"\"\"Iterator producing a geometric progression\"\"\"\n",
    "    \n",
    "    def __init__(self, base=2, start=1):\n",
    "        \"\"\"Create a new geometric progression.\n",
    "        \n",
    "        base    the fixed constant multiplied to each term(default 2)\n",
    "        start   the first term of the progression(default 1)\n",
    "        \"\"\"\n",
    "        super().__init__(start)\n",
    "        self._base = base\n",
    "        \n",
    "    def _advance(self):\n",
    "        \"\"\"Update current value by multiplying it by the base value\"\"\"\n",
    "        self._current *= self._base"
   ]
  },
  {
   "cell_type": "markdown",
   "metadata": {},
   "source": [
    "마지막으로 피보나치 수열을 반환하는 자식 클래스를 만들어보자."
   ]
  },
  {
   "cell_type": "code",
   "execution_count": 11,
   "metadata": {
    "collapsed": true
   },
   "outputs": [],
   "source": [
    "class FibonacciProgression(Progression):\n",
    "    \"\"\"Iterator producing a generalized Fibonacci progression.\"\"\"\n",
    "    \n",
    "    def __init__(self, first=0, second=1):\n",
    "        \"\"\"Create a new fibonacci progression.\n",
    "        \n",
    "        first      the first term of the progression (default 0)\n",
    "        second     the second term of the progression (default 1)\n",
    "        \"\"\"\n",
    "        \n",
    "        super().__init__(first)\n",
    "        self._prev = second - first\n",
    "        \n",
    "    def _advance(self):\n",
    "        \"\"\"Update current value by taking sum of previous two.\"\"\"\n",
    "        self._prev, self._current = self._current, self._prev + self._current"
   ]
  },
  {
   "cell_type": "code",
   "execution_count": 12,
   "metadata": {},
   "outputs": [
    {
     "name": "stdout",
     "output_type": "stream",
     "text": [
      "Default progression:\n",
      "0 1 2 3 4 5 6 7 8 9\n",
      "Arithmetic progression with increment 5:\n",
      "0 5 10 15 20 25 30 35 40 45\n",
      "Arithmetic progression with increment 5 and start 2:\n",
      "2 7 12 17 22 27 32 37 42 47\n",
      "Geometric progression with default base:\n",
      "1 2 4 8 16 32 64 128 256 512\n",
      "Geometric progression with base 3:\n",
      "1 3 9 27 81 243 729 2187 6561 19683\n",
      "Fibonacci progression with default start values:\n",
      "0 1 1 2 3 5 8 13 21 34\n",
      "Fibonacci progression with start values 4 and 6:\n",
      "4 6 10 16 26 42 68 110 178 288\n"
     ]
    }
   ],
   "source": [
    "if __name__ == '__main__' : \n",
    "    print( 'Default progression:' ) \n",
    "    Progression().print_progression(10)\n",
    "    print( 'Arithmetic progression with increment 5:' ) \n",
    "    ArithmeticProgression(5).print_progression(10)\n",
    "    print( 'Arithmetic progression with increment 5 and start 2:' ) \n",
    "    ArithmeticProgression(5, 2).print_progression(10)\n",
    "    print( 'Geometric progression with default base:' ) \n",
    "    GeometricProgression().print_progression(10)\n",
    "    print( 'Geometric progression with base 3:' ) \n",
    "    GeometricProgression(3).print_progression(10)\n",
    "    print( 'Fibonacci progression with default start values:' ) \n",
    "    FibonacciProgression().print_progression(10)\n",
    "    print( 'Fibonacci progression with start values 4 and 6:' )\n",
    "    FibonacciProgression(4, 6).print_progression(10)"
   ]
  },
  {
   "cell_type": "markdown",
   "metadata": {},
   "source": [
    "## 2.4.3 Abstract Base Classes\n",
    "상속 계층의 일부로 클래스들의 그룹을 정의할 때 코드의 반복을 피하는 방법은 상속받는 클래스들이 필요로 할 공통적인 기능들을 갖춘 기초 클래스(base class)를 설계하는 것이다. 예를 들어, 위의 `Progression` 클래스는 `ArithmeticProgression`, `GeometricProgression`, `FibonacciProgression` 하위 클래스들의 기초 클래스 역할을 한다. `Progression` 클래스의 인스턴스를 만드는 것도 가능하지만 그 경우 그 인스턴스는 `ArithmeticProgression`에 increment값을 1으로 준 것과 같으므로 굳이 만들 이유가 없다. `Progression` 클래스의 진짜 목적은 다른 progression 클래스들이 필요로 하는 동작을 구현하여 하위 클래스들의 코드를 간소화하는 데 있다.\n",
    "\n",
    "전통적인 객체지향 용어에 따르면, 우리는 상속을 위한 기초 클래스로서의 역할만을 하는 클래스를 **추상 기초 클래스(abstract base class)** 라고 한다. 더 형식적으로 말하자면, 추상 기초 클래스는 직접 인스턴스로 만들어질 수 없으며, **구상 클래스(concrete class)** 만이 인스턴스로 만들어질 수 있다. 이러한 정의에 따르면 `Progression` 클래스는 추상 기초 클래스로서 설계되었지만 기술적으로 볼 때는 구상 클래스가 된다.\n",
    "\n",
    "Java와 C++와 같은 정적 타입 언어(statically typed language)에서는 추상 기초 클래스가 하나 이상의 **추상 메소드(abstract methods)** 를 지원하는 공식적으로 지원되는 타입으로서의 역할을 한다. 이는 다형성(polymorphism)을 지원하는 셈인데, 변수를 추상 기초 클래스 타입으로 선언하면서도 구상 하위 클래스(concrete subclass)의 인스턴스를 참조하는 것이 가능해지기 때문이다. 파이썬에서는 타입을 선언하지 않기 때문에 추상 기초 클래스가 없이도 다형성을 얻을 수 있다. 이러한 이유로, 파이썬에서는 `abc`라는 공식적인 추상 기초 클래스에 대한 지원이 있긴 하지만 추상 기초 클래스를 정의하는 전통이 그렇게 강하지는 않다.\n",
    "\n",
    "그럼에도 불구하고 우리가 자료구조에 대한 공부를 위해 추상 기초 클래스를 다루는 이유는, 기존의 built-in 자료 구조와 공통적인 인터페이스를 공유하는 새로운 자료 구조를 정의할 때 도움을 받을 수 있는 여러 추상 기초 클래스를 파이썬의 `collections` 모듈에서 찾을 수 있기 때문이다. 이는 **템플릿 메소드 패턴(template method pattern)** 이라고 알려진 객체지향 소프트웨어 디자인에 근거한 것이다. 템플릿 메소드 패턴은 추상 기초 클래스가 다른 추상적 동작(abstract behaviors)에 대한 호출에 의존하는 구체적 동작(concrete behaviors)을 제공하는 것을 의미한다. 하위 클래스는 이 추상적 동작에 대한 정의를 제공함으로써 상속받은 구체적 동작들이 잘 정의되게끔 할 수 있다.\n",
    "\n",
    "이제 위의 말을 이해하기 위해 예시를 들어보자. `collections.Sequence` 추상 기초 클래스는 파이썬의 `list`, `str`, `tuple` 등, 정수 인덱스를 통해 배열의 원소에 접근할 수 있는 클래스가 공통으로 갖는 동작들을 정의한다. 이 추상 기초 클래스는 `__len__`, `__getitem__`과 같은 메소드를 구현하는 하위 클래스들이 상속받아 이용할 수 있는 `count`, `index`, `__contains__` 등과 같은 메소드에 대한 구현을 제공한다. 이제 위의 말이 이해가 되는가? 위의 추상적 동작에 대응되는 메소드가 `__len__`, `__getitem__`이고, 구체적 동작은 `count`, `index`, `__contains__`가 된다. 이 세 메소드는 `__len__`, `__getitem__` 메소드에 의존하고 있으며 `collections.Sequence` 추상 기초 클래스의 하위 클래스가 이 두 메소드를 잘 구현하기만 하면 이미 구현되어 있는 `count`, `index`, `__contains__` 를 이용할 수 있게 되는 것이다."
   ]
  },
  {
   "cell_type": "code",
   "execution_count": 13,
   "metadata": {
    "collapsed": true
   },
   "outputs": [],
   "source": [
    "from abc import ABCMeta, abstractmethod\n",
    "\n",
    "class Sequence(metaclass = ABCMeta):\n",
    "    \"\"\"Our own version of collections.Sequence abstract base class\"\"\"\n",
    "    \n",
    "    @abstractmethod\n",
    "    def __len__(self):\n",
    "        \"\"\"Return the length of the sequence\"\"\"\n",
    "        \n",
    "    @abstractmethod\n",
    "    def __getitem__(self, j):\n",
    "        \"\"\"Return the element at index j of the sequence\"\"\"\n",
    "        \n",
    "    def __contains__(self, val):\n",
    "        \"\"\"Return True if val found in the sequence; False otherwise.\"\"\"\n",
    "        for j in range(len(self)):\n",
    "            if self[j] == val:       # found match\n",
    "                return True\n",
    "            return False\n",
    "        \n",
    "    def index(self, val):\n",
    "        \"\"\"Return leftmost index at which val is found (or raise ValueError).\"\"\"\n",
    "        for j in range(len(self)):\n",
    "            if self[j] == val:\n",
    "                return j\n",
    "        raise ValueError('value no in sequence')\n",
    "    \n",
    "    def count(self, val):\n",
    "        \"\"\"Return the number of elements equal to given value.\"\"\"\n",
    "        k = 0\n",
    "        for j in range(len(self)):\n",
    "            if self[j] == val:\n",
    "                k += 1\n",
    "        return k"
   ]
  },
  {
   "cell_type": "markdown",
   "metadata": {},
   "source": [
    "위의 구현은 두 파이썬 고급 테크닉에 의존한다. 첫번째 테크닉은 `abc` 모듈의 `ABCMeta` 클래스를 `Sequence` 클래스의 **메타클래스(metaclass)** 로 선언한 것이다. 메타클래스는 슈퍼클래스(상위 클래스, superclass)와는 다른데, 메타클래스는 클래스 정의 자체를 위한 템플릿을 제공한다. 무슨 말인가 하면, `ABCMeta`로 선언되는 순간 그 클래스는 컨스트럭터(Constructor)로서 사용될 수 없고, 만약 그렇게 하면 에러가 출력된다."
   ]
  },
  {
   "cell_type": "code",
   "execution_count": 14,
   "metadata": {},
   "outputs": [
    {
     "ename": "TypeError",
     "evalue": "Can't instantiate abstract class Sequence with abstract methods __getitem__, __len__",
     "output_type": "error",
     "traceback": [
      "\u001b[1;31m---------------------------------------------------------------------------\u001b[0m",
      "\u001b[1;31mTypeError\u001b[0m                                 Traceback (most recent call last)",
      "\u001b[1;32m<ipython-input-14-bc630e794ade>\u001b[0m in \u001b[0;36m<module>\u001b[1;34m()\u001b[0m\n\u001b[1;32m----> 1\u001b[1;33m \u001b[0ma\u001b[0m \u001b[1;33m=\u001b[0m \u001b[0mSequence\u001b[0m\u001b[1;33m(\u001b[0m\u001b[1;33m)\u001b[0m\u001b[1;33m\u001b[0m\u001b[0m\n\u001b[0m",
      "\u001b[1;31mTypeError\u001b[0m: Can't instantiate abstract class Sequence with abstract methods __getitem__, __len__"
     ]
    }
   ],
   "source": [
    "a = Sequence()"
   ]
  },
  {
   "cell_type": "markdown",
   "metadata": {},
   "source": [
    "두 번째 테크닉은 `@abstractmethod` 데코레이터를 사용하여 `__len__`과 `__getitem__` 메소드가 추상 메소드임을 선언하는 것이다. 이렇게 선언하는 것은 이 기초 클래스 안에서 이러한 추상 메소드들에 대한 구현을 제공하지 않을 것이며, 이 기초 클래스를 상속하는 하위 클래스는 반드시 이 추상 메소드를 오버라이드하여 이 메소드들을 구현해야 한다고 알리는 것과 같다. 이렇게 되면 파이썬은 추상 메소드들을 오버라이드하지 않는 하위 클래스들이 인스턴스를 만드는 것을 금지한다.\n",
    "\n",
    "나머지의 코드를 보면, `Sequence` 기초 클래스가 `__len__`, `__getitem__` 추상 메소드가 구상 클래스 안에서 구현될 것이라는 기대 하에 나머지 메소드들을 구현하고 있음을 알 수 있다. 코드를 자세히 본다면 `__contains__`, `index`, `count` 메소드의 구현이 `self` 인스턴스에 대한 어떠한 가정에도 의존하고 있지 않음을 알 수 있다. 예를 들어 위에서 정의했던 `Range` 클래스를 생각해보자. 우리가 `__len__`과 `__getitem__` 메소드를 구현했으므로 만약 `collections.Sequence`를 상속하게 했다면 Range 클래스 안에 `count`나 `index`를 정의하지 않았더라도 이 메소드들을 사용할 수 있게 될 것이다.\n",
    "```python\n",
    "class Range(collections.Sequence)\n",
    "```\n",
    "마지막으로 강조해야 할 것은 하위 클래스가 기초 클래스에서 상속받은 메소드를 오버라이드할 수 있다는 것이다. 만약 기초 클래스의 일반적인 메소드보다 더 효율적으로 작동하는 메소드를 구현할 수 있다면 그렇게 해야한다. 예를 들어 `Range` 클래스가 `__contains__` 메소드를 상속받는 경우를 생각해보자. `100000 in Range(0, 2000000, 100)` 코드를 실행할 때, 기초 클래스의 `__contains__` 메소드를 이용하는 경우 `for` 루프를 통해 100000이 포함되어 있는지를 판단할 것이다. 그런데 우리는 굳이 루프를 돌릴 필요 없이 100000이 100의 배수이므로 `True` 값을 반환해야 함을 잘 알고 있다. 이런 경우 `Range` 클래스가 `__contains__` 메소드를 오버라이드하여 더 효율적으로 작동하게끔 하는 것이 바람직하다.\n",
    "\n",
    "## 2.6 Shallow and Deep Copying\n",
    "파이썬에서 객체의 복사를 다루기 위해 다양한 색상들의 리스트를 관리하는 상황을 생각해보자. 각각의 색은 `color` 클래스의 인스턴스들이며, `warmtones`는 그러한 색(오렌지, 갈색)들의 리스트이다. 이제, `warmtones` 리스트의 복사본인 `palette` 리스트를 만들어 기존의 `warmtones` 리스트에 영향을 주지 않으면서 색상을 추가하거나 삭제하는 동작이 가능하게 하고 싶다면 어떻게 해야할까? 간단하게 생각하고 코드를 짜면 아래와 같은 코드를 실행하게 될 것이다.\n",
    "```python\n",
    "palette = warmtones\n",
    "```\n",
    "그러나 위의 코드는 `warmtones` 식별자가 참조하는 객체를 동일하게 참조하는 `palette` alias를 만들 뿐, 새로운 리스트가 생성되지는 않는다. 또한 우리가 원했듯이 자유롭게 색상을 삭제하거나 추가하는 것이 불가능하다.\n",
    "![figure-2 9](https://user-images.githubusercontent.com/20944657/36631676-c5e6f900-19bf-11e8-997d-0ba5e94f7909.png)\n",
    "\n",
    "그러면 아래와 같은 코드를 통해 `list` 클래스의 새로운 인스턴스를 만들어보자.\n",
    "```python\n",
    "palette = list(warmtones)\n",
    "```\n",
    "![figure-2 10](https://user-images.githubusercontent.com/20944657/36631757-ddecd2a8-19c0-11e8-84c1-39f2fd41ab19.png)\n",
    "명시적으로 `list` 컨스트럭터를 호출함으로써 새로운 리스트가 만들어진다. 이를 **얕은 복사(allow copy)** 라고 한다. 그러면 이제 원하던 결과를 얻은걸까? 주의해야 할 점은 파이썬의 리스트는 직접 값을 담지 않고 **참조** 한다는 것이다. 새로운 리스트가 초기화되어 그 내용물이 원래의 리스트와 같아지지만, 이 리스트가 담고 있는 것은 객체들에 대한 일련의 참조(references)들이다. 이 경우 `warmtones`에 영향을 끼치지 않으면서 새로운 원소를 추가하거나 삭제할 수 있다는 점에서 첫번째 시도보다는 낫다. 그러나 여전히 `palette`는 `warmtones`의 간접적인 aliasing에 불과하다. 왜 그럴까? 위 그림을 보면 `palette[0]`과 `warmtones[0]`는 같은 `color` 객체를 참조하는 alias임을 알 수 있다. 이러한 상황에서 만약 `palette[0]`이 참조하고 있는 `color` 객체의 값을 변화시킨다면 `warmtones`에도 영향이 갈 것이다. 따라서 여전히 이는 우리가 원하던 상황이 아님을 알 수 있다.\n",
    "\n",
    "이를 피하기 위해서는 `palette`가 `warmtones`의 **깊은 복사(deep copy)** 여야 한다. 딥 카피를 통해 복사가 이루어지면, 새로운 카피본은 원래의 리스트가 참조하고 있던 객체의 새로운 복사본들을 참조하게 된다. 아래의 그림을 참조하자.\n",
    "![figure-2 11](https://user-images.githubusercontent.com/20944657/36631845-03532ec4-19c2-11e8-99ba-073bbdd89738.png)"
   ]
  }
 ],
 "metadata": {
  "kernelspec": {
   "display_name": "Python 3",
   "language": "python",
   "name": "python3"
  },
  "language_info": {
   "codemirror_mode": {
    "name": "ipython",
    "version": 3
   },
   "file_extension": ".py",
   "mimetype": "text/x-python",
   "name": "python",
   "nbconvert_exporter": "python",
   "pygments_lexer": "ipython3",
   "version": "3.6.3"
  }
 },
 "nbformat": 4,
 "nbformat_minor": 2
}
